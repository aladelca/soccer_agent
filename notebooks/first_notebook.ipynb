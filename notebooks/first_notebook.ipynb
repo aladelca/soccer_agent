{
 "cells": [
  {
   "cell_type": "code",
   "execution_count": 39,
   "metadata": {},
   "outputs": [],
   "source": [
    "from statsbombpy import sb\n",
    "import pandas as pd, numpy as np\n",
    "\n",
    "pd.set_option('display.max_columns', None)\n",
    "  \n",
    "comp = sb.competitions()\n",
    "matches = sb.matches(competition_id=43, season_id=3)\n",
    "events = sb.events(7532)\n",
    "\n",
    "    "
   ]
  },
  {
   "cell_type": "code",
   "execution_count": 40,
   "metadata": {},
   "outputs": [],
   "source": [
    "from mplsoccer import Sbopen\n",
    "import pandas as pd, numpy as np\n",
    "\n",
    "parser = Sbopen(dataframe=True)        # dataframe=True → ya te devuelve DataFrames\n",
    "comp = parser.competition()            # todas las competiciones open-data\n",
    "matches = parser.match(competition_id=43, season_id=3)  # Eredivisie 20/21\n",
    "events, related, freeze, tactics = parser.event(7532)"
   ]
  },
  {
   "cell_type": "code",
   "execution_count": 41,
   "metadata": {},
   "outputs": [],
   "source": [
    "team1, team2 = events.team_name.unique()\n",
    "mask_team1 = (events.type_name == 'Pass') & (events.team_name == team1)\n"
   ]
  },
  {
   "cell_type": "code",
   "execution_count": null,
   "metadata": {},
   "outputs": [],
   "source": [
    "import datetime\n",
    "events[events[\"timestamp\"]>=datetime.time(0, 13, 5, 760000)]"
   ]
  },
  {
   "cell_type": "code",
   "execution_count": null,
   "metadata": {},
   "outputs": [],
   "source": [
    "a = events[events[\"type_name\"]==\"Clearance\"]\n",
    "a[(a[\"team_name\"]==\"Peru\")]"
   ]
  },
  {
   "cell_type": "code",
   "execution_count": 43,
   "metadata": {},
   "outputs": [],
   "source": [
    "df_pass = events.loc[mask_team1, ['x', 'y', 'end_x', 'end_y', 'outcome_name']]\n",
    "mask_complete = df_pass.outcome_name.isnull()"
   ]
  },
  {
   "cell_type": "code",
   "execution_count": null,
   "metadata": {},
   "outputs": [],
   "source": [
    "from mplsoccer import Pitch, FontManager, Sbopen\n",
    "from matplotlib import rcParams\n",
    "import matplotlib.pyplot as plt\n",
    "# Set up the pitch\n",
    "pitch = Pitch(pitch_type='statsbomb', pitch_color='#22312b', line_color='#c7d5cc')\n",
    "fig, ax = pitch.draw(figsize=(16, 11), constrained_layout=True, tight_layout=False)\n",
    "fig.set_facecolor('#22312b')\n",
    "\n",
    "# Plot the completed passes\n",
    "pitch.arrows(df_pass[mask_complete].x, df_pass[mask_complete].y,\n",
    "             df_pass[mask_complete].end_x, df_pass[mask_complete].end_y, width=2,\n",
    "             headwidth=10, headlength=10, color='#ad993c', ax=ax, label='completed passes')\n",
    "\n",
    "# Plot the other passes\n",
    "pitch.arrows(df_pass[~mask_complete].x, df_pass[~mask_complete].y,\n",
    "             df_pass[~mask_complete].end_x, df_pass[~mask_complete].end_y, width=2,\n",
    "             headwidth=6, headlength=5, headaxislength=12,\n",
    "             color='#ba4f45', ax=ax, label='other passes')\n",
    "\n",
    "# Set up the legend\n",
    "ax.legend(facecolor='#22312b', handlelength=5, edgecolor='None', fontsize=20, loc='upper left')\n",
    "\n",
    "# Set the title\n",
    "ax_title = ax.set_title(f'{team1} passes vs {team2}', fontsize=30)"
   ]
  },
  {
   "cell_type": "code",
   "execution_count": null,
   "metadata": {},
   "outputs": [],
   "source": [
    "ball"
   ]
  },
  {
   "cell_type": "code",
   "execution_count": null,
   "metadata": {},
   "outputs": [],
   "source": [
    "import pandas as pd, plotly.express as px\n",
    "\n",
    "###############################################################################\n",
    "# 1) LABEL con actor / receptor / tipo de acción\n",
    "###############################################################################\n",
    "def build_label(row: pd.Series) -> str:\n",
    "    \"\"\"\n",
    "    Returns a string like:\n",
    "        \"Kevin De Bruyne → Erling Haaland (Pass)\"\n",
    "        \"Vivianne Miedema (Shot)\"\n",
    "    \"\"\"\n",
    "    if row[\"type_name\"] == \"Pass\":\n",
    "        recv = row.get(\"pass_recipient_name\", \"\")\n",
    "        return f\"{row['player_name']} → {recv} (Pass)\"\n",
    "    return f\"{row['player_name']} ({row['type_name']})\"\n",
    "\n",
    "events[\"time_sec\"] = (\n",
    "    pd.to_timedelta(events[\"timestamp\"].astype(str))   # 00:00:02.200000 → Timedelta\n",
    "      .dt.total_seconds()                              # → 2.2\n",
    ")\n",
    "\n",
    "\n",
    "ball = (\n",
    "    events.dropna(subset=[\"x\", \"y\", \"time_sec\"])\n",
    "          .assign(label=events.apply(build_label, axis=1))\n",
    ")\n",
    "\n",
    "\n",
    "# a:\n",
    "ball['time_bin'] = (ball['time_sec'] * 10).round().astype(int) / 10 \n",
    "\n",
    "###############################################################################\n",
    "# 2) PLOT\n",
    "###############################################################################\n",
    "fig = px.scatter(\n",
    "        ball.sort_values('time_bin'),\n",
    "        x='x', y='y',\n",
    "        animation_frame='time_bin',\n",
    "        hover_name='label',               # jugador(es) + acción\n",
    "        range_x=[-1, 125], range_y=[-1, 85],\n",
    "        width=900, height=500,\n",
    ")\n",
    "\n",
    "\n",
    "fig.update_traces(marker=dict(size=8, color=\"red\", line=dict(width=0)))\n",
    "fig.update_layout(\n",
    "    title=\"Ball trajectory • StatsBomb coordinates (0.1-second timelapse)\",\n",
    "    xaxis_title=\"Pitch X (m)\", yaxis_title=\"Pitch Y (m)\",\n",
    "    plot_bgcolor=\"#3d693d\", paper_bgcolor=\"#222\",\n",
    "    font_color=\"#EEE\",\n",
    ")\n",
    "\n",
    "fig.show()"
   ]
  },
  {
   "cell_type": "code",
   "execution_count": null,
   "metadata": {},
   "outputs": [],
   "source": [
    "ball[ball[\"time_bin\"]>=16.2]"
   ]
  }
 ],
 "metadata": {
  "kernelspec": {
   "display_name": ".venv",
   "language": "python",
   "name": "python3"
  },
  "language_info": {
   "codemirror_mode": {
    "name": "ipython",
    "version": 3
   },
   "file_extension": ".py",
   "mimetype": "text/x-python",
   "name": "python",
   "nbconvert_exporter": "python",
   "pygments_lexer": "ipython3",
   "version": "3.12.7"
  }
 },
 "nbformat": 4,
 "nbformat_minor": 2
}
